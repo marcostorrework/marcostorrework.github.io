{
 "cells": [
  {
   "cell_type": "code",
   "execution_count": 1,
   "metadata": {},
   "outputs": [],
   "source": [
    "import pandas as pd\n",
    "import numpy as np\n",
    "import matplotlib.pyplot as plt\n",
    "import seaborn as sns"
   ]
  },
  {
   "cell_type": "markdown",
   "metadata": {},
   "source": [
    "### load and clean recent_grads and grad_students datasets"
   ]
  },
  {
   "cell_type": "code",
   "execution_count": 2,
   "metadata": {},
   "outputs": [],
   "source": [
    "# recent_grads\n",
    "recent_grads = pd.read_csv('data/recent-grads.csv')\n",
    "\n",
    "to_drop = ['Rank','Full_time_year_round', 'Unemployment_rate','ShareWomen', 'P25th','P75th',\n",
    "           'Sample_size']\n",
    "recent_grads.drop(to_drop, axis=1, inplace=True)\n",
    "recent_grads['Major_code'] = recent_grads['Major_code'].apply(str)\n",
    "\n",
    "recent_grads.dropna(subset = ['Total'], inplace=True)\n",
    "recent_grads.isna().sum()\n",
    "recent_grads.astype({'Total': 'int64', 'Men': 'int64', 'Women': 'int64'}).dtypes\n",
    "\n",
    "recent_grads = recent_grads.rename(columns={'Median': 'Median_income'})\n",
    "\n",
    "# Convert major name to title case\n",
    "recent_grads['Major'] = recent_grads['Major'].str.title()\n",
    "\n",
    "# Get short names of majors\n",
    "recent_grads['Total'] = recent_grads['Total'].apply(np.int64)\n",
    "recent_grads['Men'] = recent_grads['Men'].apply(np.int64)\n",
    "recent_grads['Women'] = recent_grads['Women'].apply(np.int64)\n",
    "major_list = pd.read_csv('data/major_short_names.csv')\n",
    "recent_grads = pd.merge(major_list, recent_grads, how='right')\n",
    "recent_grads.rename(columns={'Major':'Major_long', 'Major_short':'Major', 'Low_wage_jobs':'income: low-wage'}, inplace=True)\n",
    "recent_grads['income: other'] = recent_grads['Employed'] - recent_grads['income: low-wage']"
   ]
  },
  {
   "cell_type": "code",
   "execution_count": 3,
   "metadata": {},
   "outputs": [
    {
     "data": {
      "text/html": [
       "<div>\n",
       "<style scoped>\n",
       "    .dataframe tbody tr th:only-of-type {\n",
       "        vertical-align: middle;\n",
       "    }\n",
       "\n",
       "    .dataframe tbody tr th {\n",
       "        vertical-align: top;\n",
       "    }\n",
       "\n",
       "    .dataframe thead th {\n",
       "        text-align: right;\n",
       "    }\n",
       "</style>\n",
       "<table border=\"1\" class=\"dataframe\">\n",
       "  <thead>\n",
       "    <tr style=\"text-align: right;\">\n",
       "      <th></th>\n",
       "      <th>Major_category</th>\n",
       "      <th>Major_long</th>\n",
       "      <th>Major</th>\n",
       "      <th>Major_code</th>\n",
       "      <th>Total</th>\n",
       "      <th>Men</th>\n",
       "      <th>Women</th>\n",
       "      <th>Employed</th>\n",
       "      <th>Full_time</th>\n",
       "      <th>Part_time</th>\n",
       "      <th>Unemployed</th>\n",
       "      <th>Median_income</th>\n",
       "      <th>College_jobs</th>\n",
       "      <th>Non_college_jobs</th>\n",
       "      <th>income: low-wage</th>\n",
       "      <th>income: other</th>\n",
       "    </tr>\n",
       "  </thead>\n",
       "  <tbody>\n",
       "    <tr>\n",
       "      <th>0</th>\n",
       "      <td>Engineering</td>\n",
       "      <td>Petroleum Engineering</td>\n",
       "      <td>Petroleum Eng.</td>\n",
       "      <td>2419</td>\n",
       "      <td>2339</td>\n",
       "      <td>2057</td>\n",
       "      <td>282</td>\n",
       "      <td>1976</td>\n",
       "      <td>1849</td>\n",
       "      <td>270</td>\n",
       "      <td>37</td>\n",
       "      <td>110000</td>\n",
       "      <td>1534</td>\n",
       "      <td>364</td>\n",
       "      <td>193</td>\n",
       "      <td>1783</td>\n",
       "    </tr>\n",
       "    <tr>\n",
       "      <th>1</th>\n",
       "      <td>Engineering</td>\n",
       "      <td>Mining And Mineral Engineering</td>\n",
       "      <td>Mining &amp; Mineral Eng.</td>\n",
       "      <td>2416</td>\n",
       "      <td>756</td>\n",
       "      <td>679</td>\n",
       "      <td>77</td>\n",
       "      <td>640</td>\n",
       "      <td>556</td>\n",
       "      <td>170</td>\n",
       "      <td>85</td>\n",
       "      <td>75000</td>\n",
       "      <td>350</td>\n",
       "      <td>257</td>\n",
       "      <td>50</td>\n",
       "      <td>590</td>\n",
       "    </tr>\n",
       "    <tr>\n",
       "      <th>2</th>\n",
       "      <td>Engineering</td>\n",
       "      <td>Metallurgical Engineering</td>\n",
       "      <td>Metallurgical Eng.</td>\n",
       "      <td>2415</td>\n",
       "      <td>856</td>\n",
       "      <td>725</td>\n",
       "      <td>131</td>\n",
       "      <td>648</td>\n",
       "      <td>558</td>\n",
       "      <td>133</td>\n",
       "      <td>16</td>\n",
       "      <td>73000</td>\n",
       "      <td>456</td>\n",
       "      <td>176</td>\n",
       "      <td>0</td>\n",
       "      <td>648</td>\n",
       "    </tr>\n",
       "    <tr>\n",
       "      <th>3</th>\n",
       "      <td>Engineering</td>\n",
       "      <td>Naval Architecture And Marine Engineering</td>\n",
       "      <td>Naval Architecture &amp; Marine Eng.</td>\n",
       "      <td>2417</td>\n",
       "      <td>1258</td>\n",
       "      <td>1123</td>\n",
       "      <td>135</td>\n",
       "      <td>758</td>\n",
       "      <td>1069</td>\n",
       "      <td>150</td>\n",
       "      <td>40</td>\n",
       "      <td>70000</td>\n",
       "      <td>529</td>\n",
       "      <td>102</td>\n",
       "      <td>0</td>\n",
       "      <td>758</td>\n",
       "    </tr>\n",
       "    <tr>\n",
       "      <th>4</th>\n",
       "      <td>Engineering</td>\n",
       "      <td>Chemical Engineering</td>\n",
       "      <td>Chemical Eng.</td>\n",
       "      <td>2405</td>\n",
       "      <td>32260</td>\n",
       "      <td>21239</td>\n",
       "      <td>11021</td>\n",
       "      <td>25694</td>\n",
       "      <td>23170</td>\n",
       "      <td>5180</td>\n",
       "      <td>1672</td>\n",
       "      <td>65000</td>\n",
       "      <td>18314</td>\n",
       "      <td>4440</td>\n",
       "      <td>972</td>\n",
       "      <td>24722</td>\n",
       "    </tr>\n",
       "  </tbody>\n",
       "</table>\n",
       "</div>"
      ],
      "text/plain": [
       "  Major_category                                 Major_long  \\\n",
       "0    Engineering                      Petroleum Engineering   \n",
       "1    Engineering             Mining And Mineral Engineering   \n",
       "2    Engineering                  Metallurgical Engineering   \n",
       "3    Engineering  Naval Architecture And Marine Engineering   \n",
       "4    Engineering                       Chemical Engineering   \n",
       "\n",
       "                              Major Major_code  Total    Men  Women  Employed  \\\n",
       "0                    Petroleum Eng.       2419   2339   2057    282      1976   \n",
       "1             Mining & Mineral Eng.       2416    756    679     77       640   \n",
       "2                Metallurgical Eng.       2415    856    725    131       648   \n",
       "3  Naval Architecture & Marine Eng.       2417   1258   1123    135       758   \n",
       "4                     Chemical Eng.       2405  32260  21239  11021     25694   \n",
       "\n",
       "   Full_time  Part_time  Unemployed  Median_income  College_jobs  \\\n",
       "0       1849        270          37         110000          1534   \n",
       "1        556        170          85          75000           350   \n",
       "2        558        133          16          73000           456   \n",
       "3       1069        150          40          70000           529   \n",
       "4      23170       5180        1672          65000         18314   \n",
       "\n",
       "   Non_college_jobs  income: low-wage  income: other  \n",
       "0               364               193           1783  \n",
       "1               257                50            590  \n",
       "2               176                 0            648  \n",
       "3               102                 0            758  \n",
       "4              4440               972          24722  "
      ]
     },
     "execution_count": 3,
     "metadata": {},
     "output_type": "execute_result"
    }
   ],
   "source": [
    "recent_grads.head()"
   ]
  },
  {
   "cell_type": "code",
   "execution_count": 4,
   "metadata": {},
   "outputs": [],
   "source": [
    "grad_students = pd.read_csv('data/grad-students.csv')"
   ]
  },
  {
   "cell_type": "code",
   "execution_count": 6,
   "metadata": {},
   "outputs": [
    {
     "data": {
      "text/plain": [
       "Index(['Major_code', 'Major', 'Major_category', 'Grad_total',\n",
       "       'Grad_sample_size', 'Grad_employed', 'Grad_full_time_year_round',\n",
       "       'Grad_unemployed', 'Grad_unemployment_rate', 'Grad_median', 'Grad_P25',\n",
       "       'Grad_P75', 'Nongrad_total', 'Nongrad_employed',\n",
       "       'Nongrad_full_time_year_round', 'Nongrad_unemployed',\n",
       "       'Nongrad_unemployment_rate', 'Nongrad_median', 'Nongrad_P25',\n",
       "       'Nongrad_P75', 'Grad_share', 'Grad_premium'],\n",
       "      dtype='object')"
      ]
     },
     "execution_count": 6,
     "metadata": {},
     "output_type": "execute_result"
    }
   ],
   "source": [
    "grad_students.columns"
   ]
  },
  {
   "cell_type": "code",
   "execution_count": 7,
   "metadata": {},
   "outputs": [
    {
     "data": {
      "text/plain": [
       "Major                        0\n",
       "Major_category               0\n",
       "Grad_total                   0\n",
       "Grad_employed                0\n",
       "Grad_full_time_year_round    0\n",
       "Grad_unemployed              0\n",
       "Grad_unemployment_rate       0\n",
       "Grad_median                  0\n",
       "Nongrad_total                0\n",
       "Nongrad_employed             0\n",
       "Nongrad_unemployed           0\n",
       "Nongrad_unemployment_rate    0\n",
       "dtype: int64"
      ]
     },
     "execution_count": 7,
     "metadata": {},
     "output_type": "execute_result"
    }
   ],
   "source": [
    "to_drop = ['Major_code', 'Grad_sample_size', 'Grad_P25', 'Grad_P75',  'Nongrad_P25', 'Nongrad_P75', 'Grad_share', 'Grad_premium', 'Nongrad_full_time_year_round', 'Nongrad_median']\n",
    "grad_students.drop(to_drop, axis=1, inplace=True)\n",
    "grad_students.isna().sum()"
   ]
  },
  {
   "cell_type": "code",
   "execution_count": 8,
   "metadata": {},
   "outputs": [
    {
     "data": {
      "text/plain": [
       "Major                         object\n",
       "Major_category                object\n",
       "Grad_total                     int64\n",
       "Grad_employed                  int64\n",
       "Grad_full_time_year_round      int64\n",
       "Grad_unemployed                int64\n",
       "Grad_unemployment_rate       float64\n",
       "Grad_median                  float64\n",
       "Nongrad_total                  int64\n",
       "Nongrad_employed               int64\n",
       "Nongrad_unemployed             int64\n",
       "Nongrad_unemployment_rate    float64\n",
       "dtype: object"
      ]
     },
     "execution_count": 8,
     "metadata": {},
     "output_type": "execute_result"
    }
   ],
   "source": [
    "grad_students.dtypes"
   ]
  },
  {
   "cell_type": "code",
   "execution_count": 9,
   "metadata": {},
   "outputs": [
    {
     "data": {
      "text/html": [
       "<div>\n",
       "<style scoped>\n",
       "    .dataframe tbody tr th:only-of-type {\n",
       "        vertical-align: middle;\n",
       "    }\n",
       "\n",
       "    .dataframe tbody tr th {\n",
       "        vertical-align: top;\n",
       "    }\n",
       "\n",
       "    .dataframe thead th {\n",
       "        text-align: right;\n",
       "    }\n",
       "</style>\n",
       "<table border=\"1\" class=\"dataframe\">\n",
       "  <thead>\n",
       "    <tr style=\"text-align: right;\">\n",
       "      <th></th>\n",
       "      <th>Major</th>\n",
       "      <th>Major_category</th>\n",
       "      <th>Total</th>\n",
       "      <th>Employed</th>\n",
       "      <th>Full_time</th>\n",
       "      <th>Unemployed</th>\n",
       "      <th>Grad_unemployment_rate</th>\n",
       "      <th>Median_income</th>\n",
       "      <th>Nongrad_total</th>\n",
       "      <th>Non_college_jobs</th>\n",
       "      <th>Nongrad_unemployed</th>\n",
       "      <th>Nongrad_unemployment_rate</th>\n",
       "      <th>Part_time</th>\n",
       "    </tr>\n",
       "  </thead>\n",
       "  <tbody>\n",
       "    <tr>\n",
       "      <th>0</th>\n",
       "      <td>CONSTRUCTION SERVICES</td>\n",
       "      <td>Industrial Arts &amp; Consumer Services</td>\n",
       "      <td>9173</td>\n",
       "      <td>7098</td>\n",
       "      <td>6511</td>\n",
       "      <td>681</td>\n",
       "      <td>0.087543</td>\n",
       "      <td>75000</td>\n",
       "      <td>86062</td>\n",
       "      <td>73607</td>\n",
       "      <td>3928</td>\n",
       "      <td>0.050661</td>\n",
       "      <td>587</td>\n",
       "    </tr>\n",
       "    <tr>\n",
       "      <th>1</th>\n",
       "      <td>COMMERCIAL ART AND GRAPHIC DESIGN</td>\n",
       "      <td>Arts</td>\n",
       "      <td>53864</td>\n",
       "      <td>40492</td>\n",
       "      <td>29553</td>\n",
       "      <td>2482</td>\n",
       "      <td>0.057756</td>\n",
       "      <td>60000</td>\n",
       "      <td>461977</td>\n",
       "      <td>347166</td>\n",
       "      <td>25484</td>\n",
       "      <td>0.068386</td>\n",
       "      <td>10939</td>\n",
       "    </tr>\n",
       "    <tr>\n",
       "      <th>2</th>\n",
       "      <td>HOSPITALITY MANAGEMENT</td>\n",
       "      <td>Business</td>\n",
       "      <td>24417</td>\n",
       "      <td>18368</td>\n",
       "      <td>14784</td>\n",
       "      <td>1465</td>\n",
       "      <td>0.073867</td>\n",
       "      <td>65000</td>\n",
       "      <td>179335</td>\n",
       "      <td>145597</td>\n",
       "      <td>7409</td>\n",
       "      <td>0.048423</td>\n",
       "      <td>3584</td>\n",
       "    </tr>\n",
       "    <tr>\n",
       "      <th>3</th>\n",
       "      <td>COSMETOLOGY SERVICES AND CULINARY ARTS</td>\n",
       "      <td>Industrial Arts &amp; Consumer Services</td>\n",
       "      <td>5411</td>\n",
       "      <td>3590</td>\n",
       "      <td>2701</td>\n",
       "      <td>316</td>\n",
       "      <td>0.080901</td>\n",
       "      <td>47000</td>\n",
       "      <td>37575</td>\n",
       "      <td>29738</td>\n",
       "      <td>1661</td>\n",
       "      <td>0.052900</td>\n",
       "      <td>889</td>\n",
       "    </tr>\n",
       "    <tr>\n",
       "      <th>4</th>\n",
       "      <td>COMMUNICATION TECHNOLOGIES</td>\n",
       "      <td>Computers &amp; Mathematics</td>\n",
       "      <td>9109</td>\n",
       "      <td>7512</td>\n",
       "      <td>5622</td>\n",
       "      <td>466</td>\n",
       "      <td>0.058411</td>\n",
       "      <td>57000</td>\n",
       "      <td>53819</td>\n",
       "      <td>43163</td>\n",
       "      <td>3389</td>\n",
       "      <td>0.072800</td>\n",
       "      <td>1890</td>\n",
       "    </tr>\n",
       "  </tbody>\n",
       "</table>\n",
       "</div>"
      ],
      "text/plain": [
       "                                    Major  \\\n",
       "0                   CONSTRUCTION SERVICES   \n",
       "1       COMMERCIAL ART AND GRAPHIC DESIGN   \n",
       "2                  HOSPITALITY MANAGEMENT   \n",
       "3  COSMETOLOGY SERVICES AND CULINARY ARTS   \n",
       "4              COMMUNICATION TECHNOLOGIES   \n",
       "\n",
       "                        Major_category  Total  Employed  Full_time  \\\n",
       "0  Industrial Arts & Consumer Services   9173      7098       6511   \n",
       "1                                 Arts  53864     40492      29553   \n",
       "2                             Business  24417     18368      14784   \n",
       "3  Industrial Arts & Consumer Services   5411      3590       2701   \n",
       "4              Computers & Mathematics   9109      7512       5622   \n",
       "\n",
       "   Unemployed  Grad_unemployment_rate  Median_income  Nongrad_total  \\\n",
       "0         681                0.087543          75000          86062   \n",
       "1        2482                0.057756          60000         461977   \n",
       "2        1465                0.073867          65000         179335   \n",
       "3         316                0.080901          47000          37575   \n",
       "4         466                0.058411          57000          53819   \n",
       "\n",
       "   Non_college_jobs  Nongrad_unemployed  Nongrad_unemployment_rate  Part_time  \n",
       "0             73607                3928                   0.050661        587  \n",
       "1            347166               25484                   0.068386      10939  \n",
       "2            145597                7409                   0.048423       3584  \n",
       "3             29738                1661                   0.052900        889  \n",
       "4             43163                3389                   0.072800       1890  "
      ]
     },
     "execution_count": 9,
     "metadata": {},
     "output_type": "execute_result"
    }
   ],
   "source": [
    "grad_students.rename(columns={'Grad_total':'Total', 'Grad_employed': 'Employed', 'Grad_full_time_year_round': 'Full_time',\n",
    "                             'Grad_unemployed':'Unemployed', 'Nongrad_employed':'Non_college_jobs', 'Grad_median':'Median_income'}, inplace=True)\n",
    "grad_students['Part_time'] = grad_students['Employed'] - grad_students['Full_time']\n",
    "grad_students['Median_income'] = grad_students['Median_income'].apply(np.int64)\n",
    "grad_students.head()"
   ]
  },
  {
   "cell_type": "markdown",
   "metadata": {},
   "source": [
    "### pivot tables for visualizations\n",
    "\n",
    "#### recent_grads"
   ]
  },
  {
   "cell_type": "code",
   "execution_count": null,
   "metadata": {},
   "outputs": [],
   "source": [
    "recent_grads['Percent_employed'] = recent_grads['Employed'] / (recent_grads['Employed'] + recent_grads['Unemployed'])\n",
    "recent_grads['Percent_college_jobs'] = recent_grads['College_jobs'] / (recent_grads['College_jobs'] + recent_grads['Non_college_jobs'])\n",
    "recent_grads['Percent_non_college_jobs'] = recent_grads['Non_college_jobs'] / (recent_grads['College_jobs'] + recent_grads['Non_college_jobs'])\n",
    "recent_grads['Total_income'] = recent_grads['Median_income'] * recent_grads['Full_time']\n",
    "recent_grads['Percent_low_wage_jobs'] = recent_grads['income: low-wage'] / (recent_grads['College_jobs'] + recent_grads['Non_college_jobs'] + recent_grads['income: low-wage'])\n",
    "recent_grads.head()"
   ]
  },
  {
   "cell_type": "code",
   "execution_count": null,
   "metadata": {},
   "outputs": [],
   "source": [
    "df_cat = recent_grads.groupby('Major_category').agg({'Median_income': 'sum', 'Total': 'sum', 'Men': 'sum', 'Women': 'sum',\n",
    "                    'Employed': 'sum', 'Unemployed': 'sum', 'Full_time': 'sum', 'College_jobs': 'sum',\n",
    "                    'Non_college_jobs': 'sum', 'income: low-wage': 'sum'})\n",
    "df_cat.reset_index(level=0, inplace=True)\n",
    "\n",
    "# See note above about the approximation of median income by category\n",
    "df_cat['Median_income'] = round(df_cat['Median_income'] / df_cat['Full_time'])\n",
    "df_cat['Percent_employed'] = (df_cat['Employed'] / (df_cat['Employed'] + df_cat['Unemployed']))*100\n",
    "df_cat['Percent_unemployed'] = (df_cat['Unemployed'] / (df_cat['Employed'] + df_cat['Unemployed']))*100\n",
    "df_cat['Percent_men'] = (df_cat['Men'] / (df_cat['Men'] + df_cat['Women']))*100\n",
    "df_cat['Percent_women'] = (df_cat['Women'] / (df_cat['Men'] + df_cat['Women']))*100\n",
    "df_cat['Percent_college_jobs'] = (df_cat['College_jobs'] / (df_cat['College_jobs'] + df_cat['Non_college_jobs']))*100\n",
    "df_cat['Percent_non_college_jobs'] = (df_cat['Non_college_jobs'] / (df_cat['College_jobs'] + df_cat['Non_college_jobs']))*100\n",
    "df_cat['Percent_low_wage_jobs'] = df_cat['income: low-wage'] / (df_cat['College_jobs'] + df_cat['Non_college_jobs'] + df_cat['income: low-wage'])\n",
    "df_cat.head()"
   ]
  },
  {
   "cell_type": "code",
   "execution_count": null,
   "metadata": {},
   "outputs": [],
   "source": [
    "# Major categories sorted by median income - used to keep the same sorting as the other chart\n",
    "sorted_categories = df_cat.sort_values(by=['Median_income'], ascending=False)['Major_category'].tolist()"
   ]
  },
  {
   "cell_type": "code",
   "execution_count": null,
   "metadata": {},
   "outputs": [],
   "source": [
    "# Required for stacked bar chart: Data set with separate rows for \"Percent_employed\" and \"Percent_unemployed\"\n",
    "df_cat_E = pd.melt(df_cat, id_vars=['Major_category', 'Median_income'], value_vars=['Percent_employed', 'Percent_unemployed'], \n",
    "        var_name='Status', value_name='Percentage')\n",
    "df_cat_E.head()"
   ]
  },
  {
   "cell_type": "code",
   "execution_count": null,
   "metadata": {},
   "outputs": [],
   "source": [
    "value_vars_C = ['Percent_college_jobs', 'Percent_non_college_jobs', 'Percent_low_wage_jobs']\n",
    "\n",
    "df_cat_C = pd.melt(df_cat, id_vars=['Major_category'], value_vars=value_vars_C,\n",
    "        var_name='Status', value_name='Percentage')\n",
    "df_cat_C.head()"
   ]
  },
  {
   "cell_type": "code",
   "execution_count": null,
   "metadata": {},
   "outputs": [],
   "source": [
    "RGC = pd.melt(recent_grads, id_vars=['Major', 'Major_category'], value_vars=value_vars_C,\n",
    "        var_name='Status', value_name='Percentage')\n",
    "RGC.head()"
   ]
  },
  {
   "cell_type": "code",
   "execution_count": null,
   "metadata": {},
   "outputs": [],
   "source": [
    "recent_grads['unemployed'] = recent_grads['Unemployed'] / (recent_grads['Employed'] + recent_grads['Unemployed'])\n",
    "recent_grads['employed'] = recent_grads['Employed'] / (recent_grads['Employed'] + recent_grads['Unemployed'])\n",
    "\n",
    "# Split employed between college and non-college\n",
    "recent_grads['employed (in-major)'] = recent_grads['employed']*recent_grads['College_jobs'] / (recent_grads['College_jobs'] + recent_grads['Non_college_jobs'])\n",
    "recent_grads['employed (outside-major)'] = recent_grads['employed']*recent_grads['Non_college_jobs'] / (recent_grads['College_jobs'] + recent_grads['Non_college_jobs'])\n",
    "recent_grads.head()\n",
    "\n",
    "# Required for stacked bar chart: Data set with separate rows for 'Percent_unemployed', 'Percent_employed_college_jobs' and\n",
    "# 'Percent_employed_non_college_jobs'\n",
    "\n",
    "df_RGE = pd.melt(recent_grads, id_vars=['Major', 'Major_category'], \n",
    "              value_vars=['unemployed', 'employed (in-major)', 'employed (outside-major)'],\n",
    "        var_name='Status', value_name='Percentage')\n",
    "df_RGE.head()"
   ]
  },
  {
   "cell_type": "code",
   "execution_count": null,
   "metadata": {},
   "outputs": [],
   "source": [
    "grad_students.head()"
   ]
  },
  {
   "cell_type": "code",
   "execution_count": null,
   "metadata": {},
   "outputs": [],
   "source": [
    "# grad_students pivot tables"
   ]
  },
  {
   "cell_type": "markdown",
   "metadata": {},
   "source": [
    "### visualizations\n",
    "\n",
    "<ol>\n",
    "<li>gendered violin plot by income</li>\n",
    "<li>layered bar chart income vs major category, legend: undergraduates, graduates</li>\n",
    "<li>dual-histograms for categories with large income change</li>\n",
    "<li>total students vs income (popularity/income correlation)</li>\n",
    "<li>stand-out individual majors (outliers within categories)</li>\n",
    "<li>income vs employment type (display risk/reward tradeoff)</li>\n",
    "<li>category/major gender charts (distribution for categories)</li>\n",
    "</ul>"
   ]
  },
  {
   "cell_type": "code",
   "execution_count": null,
   "metadata": {},
   "outputs": [],
   "source": [
    "# gendered violin plot by income\n",
    "\n",
    "# layered bar chart income vs major category legend: undergraduates, graduates\n",
    "\n",
    "# dual-histograms for categories with large income change\n",
    "\n",
    "# total students vs income (popularity/income correlation)\n",
    "\n",
    "# stand-out individual majors\n",
    "\n",
    "# income vs employment type (display risk/reward tradeoff)\n",
    "\n",
    "# category/major gender charts (distribution for categories)"
   ]
  },
  {
   "cell_type": "code",
   "execution_count": null,
   "metadata": {},
   "outputs": [],
   "source": []
  }
 ],
 "metadata": {
  "kernelspec": {
   "display_name": "Python 3",
   "language": "python",
   "name": "python3"
  },
  "language_info": {
   "codemirror_mode": {
    "name": "ipython",
    "version": 3
   },
   "file_extension": ".py",
   "mimetype": "text/x-python",
   "name": "python",
   "nbconvert_exporter": "python",
   "pygments_lexer": "ipython3",
   "version": "3.8.3"
  }
 },
 "nbformat": 4,
 "nbformat_minor": 4
}
