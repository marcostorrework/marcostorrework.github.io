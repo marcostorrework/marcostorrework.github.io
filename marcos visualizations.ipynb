{
 "cells": [
  {
   "cell_type": "code",
   "execution_count": null,
   "metadata": {},
   "outputs": [],
   "source": [
    "import pandas as pd\n",
    "import numpy as np\n",
    "import matplotlib.pyplot as plt\n",
    "import seaborn as sns\n",
    "import matplotlib.patches as mpatches\n",
    "#import squarify"
   ]
  },
  {
   "cell_type": "markdown",
   "metadata": {},
   "source": [
    "### load and clean recent_grads and grad_students datasets"
   ]
  },
  {
   "cell_type": "code",
   "execution_count": null,
   "metadata": {},
   "outputs": [],
   "source": [
    "# recent_grads\n",
    "recent_grads = pd.read_csv('data/recent-grads.csv')\n",
    "\n",
    "to_drop = ['Rank','Full_time_year_round', 'Unemployment_rate','ShareWomen', 'P25th','P75th',\n",
    "           'Sample_size']\n",
    "recent_grads.drop(to_drop, axis=1, inplace=True)\n",
    "recent_grads['Major_code'] = recent_grads['Major_code'].apply(str)\n",
    "\n",
    "recent_grads.dropna(subset = ['Total'], inplace=True)\n",
    "recent_grads.isna().sum()\n",
    "recent_grads.astype({'Total': 'int64', 'Men': 'int64', 'Women': 'int64'}).dtypes\n",
    "\n",
    "recent_grads = recent_grads.rename(columns={'Median': 'Median_income'})\n",
    "\n",
    "# Convert major name to title case\n",
    "recent_grads['Major'] = recent_grads['Major'].str.title()\n",
    "\n",
    "# Get short names of majors\n",
    "recent_grads['Total'] = recent_grads['Total'].apply(np.int64)\n",
    "recent_grads['Men'] = recent_grads['Men'].apply(np.int64)\n",
    "recent_grads['Women'] = recent_grads['Women'].apply(np.int64)\n",
    "major_list = pd.read_csv('data/major_short_names.csv')\n",
    "recent_grads = pd.merge(major_list, recent_grads, how='right')\n",
    "recent_grads.rename(columns={'Major':'Major_long', 'Major_short':'Major', 'Low_wage_jobs':'income: low-wage'}, inplace=True)\n",
    "recent_grads['income: other'] = recent_grads['Employed'] - recent_grads['income: low-wage']"
   ]
  },
  {
   "cell_type": "code",
   "execution_count": null,
   "metadata": {},
   "outputs": [],
   "source": [
    "recent_grads.head()"
   ]
  },
  {
   "cell_type": "code",
   "execution_count": null,
   "metadata": {},
   "outputs": [],
   "source": [
    "grad_students = pd.read_csv('data/grad-students.csv')"
   ]
  },
  {
   "cell_type": "code",
   "execution_count": null,
   "metadata": {},
   "outputs": [],
   "source": [
    "grad_students.columns"
   ]
  },
  {
   "cell_type": "code",
   "execution_count": null,
   "metadata": {},
   "outputs": [],
   "source": [
    "to_drop = ['Major_code', 'Grad_sample_size', 'Grad_P25', 'Grad_P75',  'Nongrad_P25', 'Nongrad_P75', 'Grad_share', 'Grad_premium', 'Nongrad_full_time_year_round']\n",
    "grad_students.drop(to_drop, axis=1, inplace=True)\n",
    "grad_students.isna().sum()"
   ]
  },
  {
   "cell_type": "code",
   "execution_count": null,
   "metadata": {},
   "outputs": [],
   "source": [
    "grad_students.rename(columns={ 'Grad_full_time_year_round': 'Grad_full_time','Nongrad_employed':'Grad_non_college_jobs', 'Grad_median':'Grad_median_income'}, inplace=True)\n",
    "grad_students['Grad_part_time'] = grad_students['Grad_employed'] - grad_students['Grad_full_time']\n",
    "grad_students['Grad_median_income'] = grad_students['Grad_median_income'].apply(np.int64)\n",
    "grad_students.head()"
   ]
  },
  {
   "cell_type": "markdown",
   "metadata": {},
   "source": [
    "### pivot tables for visualizations\n",
    "\n",
    "#### recent_grads"
   ]
  },
  {
   "cell_type": "code",
   "execution_count": null,
   "metadata": {},
   "outputs": [],
   "source": [
    "recent_grads['Percent_employed'] = recent_grads['Employed'] / (recent_grads['Employed'] + recent_grads['Unemployed'])\n",
    "recent_grads['Percent_college_jobs'] = recent_grads['College_jobs'] / (recent_grads['College_jobs'] + recent_grads['Non_college_jobs'])\n",
    "recent_grads['Percent_non_college_jobs'] = recent_grads['Non_college_jobs'] / (recent_grads['College_jobs'] + recent_grads['Non_college_jobs'])\n",
    "recent_grads['Total_income'] = recent_grads['Median_income'] * recent_grads['Full_time']\n",
    "recent_grads['Percent_low_wage_jobs'] = recent_grads['income: low-wage'] / (recent_grads['College_jobs'] + recent_grads['Non_college_jobs'] + recent_grads['income: low-wage'])\n",
    "recent_grads.head()"
   ]
  },
  {
   "cell_type": "code",
   "execution_count": null,
   "metadata": {},
   "outputs": [],
   "source": [
    "df_cat = recent_grads.groupby('Major_category').agg({'Median_income': 'mean', 'Total': 'sum', 'Men': 'sum', 'Women': 'sum',\n",
    "                    'Employed': 'sum', 'Unemployed': 'sum', 'Full_time': 'sum', 'College_jobs': 'sum',\n",
    "                    'Non_college_jobs': 'sum', 'income: low-wage': 'sum'})\n",
    "df_cat.reset_index(level=0, inplace=True)\n",
    "\n",
    "# See note above about the approximation of median income by category\n",
    "#df_cat['Median_income'] = round(df_cat['Median_income'] / df_cat['Full_time'])\n",
    "df_cat['Percent_employed'] = (df_cat['Employed'] / (df_cat['Employed'] + df_cat['Unemployed']))*100\n",
    "df_cat['Percent_unemployed'] = (df_cat['Unemployed'] / (df_cat['Employed'] + df_cat['Unemployed']))*100\n",
    "df_cat['Percent_men'] = (df_cat['Men'] / (df_cat['Men'] + df_cat['Women']))*100\n",
    "df_cat['Percent_women'] = (df_cat['Women'] / (df_cat['Men'] + df_cat['Women']))*100\n",
    "df_cat['Percent_college_jobs'] = (df_cat['College_jobs'] / (df_cat['College_jobs'] + df_cat['Non_college_jobs']))*100\n",
    "df_cat['Percent_non_college_jobs'] = (df_cat['Non_college_jobs'] / (df_cat['College_jobs'] + df_cat['Non_college_jobs']))*100\n",
    "df_cat['Percent_low_wage_jobs'] = df_cat['income: low-wage'] / (df_cat['College_jobs'] + df_cat['Non_college_jobs'] + df_cat['income: low-wage'])\n",
    "df_cat.head()"
   ]
  },
  {
   "cell_type": "markdown",
   "metadata": {},
   "source": [
    "### visualizations\n",
    "\n",
    "<ol>\n",
    "<li>gendered violin plot by income</li>\n",
    "<li>layered bar chart income vs major category, legend: undergraduates, graduates</li> \n",
    "<li>dual-histograms for categories with large income change</li> \n",
    "<li>total students vs income (popularity/income correlation)</li>\n",
    "<li>stand-out individual majors (outliers within categories)</li>\n",
    "<li>income vs employment type (display risk/reward tradeoff)</li>\n",
    "<li>category/major gender charts (distribution for categories)</li>\n",
    "</ul>"
   ]
  },
  {
   "cell_type": "code",
   "execution_count": null,
   "metadata": {},
   "outputs": [],
   "source": [
    "# Income vs Popularity\n",
    "sns.set(style='whitegrid')\n",
    "bar1 = sns.lmplot(y='Median_income',\n",
    "                  x='Total',\n",
    "                  data=df_cat,\n",
    "                  fit_reg=False,\n",
    "                  height=5,\n",
    "                  aspect=2\n",
    "                  )\n",
    "\n",
    "def label_point(variable, value, x_offset=0, y_offset=0):\n",
    "    plt.text(df_cat.Total[df_cat[variable]==value] + x_offset,\n",
    "             df_cat.Median_income[df_cat[variable]==value] + y_offset,\n",
    "             value, \n",
    "             fontdict=dict(color='black', alpha=0.5, size=16))\n",
    "\n",
    "label_point('Major_category', 'Business')\n",
    "label_point('Major_category', 'Engineering')\n",
    "\n",
    "label_point('Major_category', 'Education', y_offset=+1000)\n",
    "label_point('Major_category', 'Psychology & Social Work', y_offset=-3000)\n",
    "label_point('Major_category', 'Humanities & Liberal Arts')\n",
    "\n",
    "#plt.title('Income by Popularity', fontsize=16)\n",
    "plt.ylabel(\"Income (USD)\", fontsize=16)\n",
    "plt.ylim(0, 65000)\n",
    "\n",
    "plt.xlabel(\"Number of graduates\", fontsize=16)\n",
    "plt.xlim(0, 1400000)\n",
    "plt.xticks([2e5, 4e5, 6e5, 8e5, 10e5, 12e5], ['200k', '400k', '600k', '800k', '1000k', '1200k'])\n",
    "plt.tick_params(labelsize=16)\n",
    "plt.show()"
   ]
  },
  {
   "cell_type": "code",
   "execution_count": null,
   "metadata": {},
   "outputs": [],
   "source": [
    "\n",
    "# Transpose to create two rows (one per gender) for each major category\n",
    "df_cat_gender = pd.melt(df_cat.drop(columns='Total').rename(columns={'Major_category':'Cat'}),\n",
    "                        id_vars=['Cat', 'Median_income', 'Percent_women'], value_vars=['Men', 'Women'],\n",
    "                        var_name='Gender', value_name='Total')\n",
    "df_cat_gender.sort_values(['Percent_women', 'Cat', 'Gender'], ascending=[True, True, True], inplace=True)\n",
    "df_cat_gender.head()\n",
    "\n",
    "# Abbreviated category name\n",
    "df_cat_gender['C'] = df_cat_gender.Cat.str.upper().str[:8]\n",
    "\n",
    "# Abbreviate 'Men' and 'Women'\n",
    "for i in range(len(df_cat_gender)):\n",
    "    if df_cat_gender.loc[i,'Gender'] == 'Men':\n",
    "        df_cat_gender.loc[i,'Gender'] = 'M'\n",
    "    elif df_cat_gender.loc[i,'Gender'] == 'Women':\n",
    "        df_cat_gender.loc[i,'Gender'] = 'W'        "
   ]
  },
  {
   "cell_type": "code",
   "execution_count": null,
   "metadata": {},
   "outputs": [],
   "source": [
    "# Array of pie charts, one chart per category\n",
    "# Each pie shows percent of female vs male graduates\n",
    "def pie(v, l, color=None):\n",
    "    plt.pie(v, labels=l.values, startangle=90)\n",
    "\n",
    "    \n",
    "sns.set(font_scale=1.5)\n",
    "g = sns.FacetGrid(df_cat_gender, col=\"C\", col_wrap=6)\n",
    "g.map(pie, 'Total', 'Gender')\n",
    "g.set_axis_labels(\"\", \"\")\n",
    "plt.show()"
   ]
  },
  {
   "cell_type": "code",
   "execution_count": null,
   "metadata": {},
   "outputs": [],
   "source": [
    "# Income vs Percent of women\n",
    "sns.set(style='whitegrid')\n",
    "bar1 = sns.lmplot(y='Median_income',\n",
    "                  x='Percent_women',\n",
    "                  data=df_cat,\n",
    "                  fit_reg=False,\n",
    "                  height=5,\n",
    "                  aspect=2\n",
    "                  )\n",
    "\n",
    "def label_point(variable, value, x_offset=0, y_offset=0):\n",
    "    plt.text(df_cat.Percent_women[df_cat[variable]==value] + x_offset,\n",
    "             df_cat.Median_income[df_cat[variable]==value] + y_offset,\n",
    "             value, \n",
    "             fontdict=dict(color='black', alpha=0.5, size=16))\n",
    "    \n",
    "label_point('Major_category', 'Engineering', x_offset=+0.5, y_offset=-500)\n",
    "label_point('Major_category', 'Computers & Mathematics', x_offset=-10, y_offset=+500)\n",
    "label_point('Major_category', 'Education', x_offset=+0.5, y_offset=-500)\n",
    "label_point('Major_category', 'Psychology & Social Work', x_offset=-10, y_offset=-3000)\n",
    "\n",
    "\n",
    "#plt.title('Income by % Women', fontsize=16)\n",
    "plt.tick_params(labelsize=16)\n",
    "\n",
    "plt.ylabel(\"Income (USD)\", fontsize=16)\n",
    "plt.ylim(0, 65000)\n",
    "\n",
    "plt.xlabel(\"% Women\", fontsize=16)\n",
    "plt.xlim(20, 90)\n",
    "\n",
    "plt.show()\n"
   ]
  },
  {
   "cell_type": "code",
   "execution_count": null,
   "metadata": {
    "scrolled": true
   },
   "outputs": [],
   "source": [
    "# Income vs % with job requiring college\n",
    "sns.set_theme(style=\"white\")\n",
    "sns.relplot(x=\"Percent_college_jobs\", y=\"Median_income\", size=\"Total\",\n",
    "            sizes=(40, 400), alpha=.5, palette=\"muted\",\n",
    "            height=6, data=df_cat)"
   ]
  },
  {
   "cell_type": "code",
   "execution_count": null,
   "metadata": {},
   "outputs": [],
   "source": []
  }
 ],
 "metadata": {
  "kernelspec": {
   "display_name": "Python 3",
   "language": "python",
   "name": "python3"
  },
  "language_info": {
   "codemirror_mode": {
    "name": "ipython",
    "version": 3
   },
   "file_extension": ".py",
   "mimetype": "text/x-python",
   "name": "python",
   "nbconvert_exporter": "python",
   "pygments_lexer": "ipython3",
   "version": "3.8.8"
  }
 },
 "nbformat": 4,
 "nbformat_minor": 4
}
