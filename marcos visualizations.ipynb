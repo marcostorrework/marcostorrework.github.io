{
 "cells": [
  {
   "cell_type": "code",
   "execution_count": null,
   "metadata": {},
   "outputs": [],
   "source": [
    "import pandas as pd\n",
    "import numpy as np\n",
    "import matplotlib.pyplot as plt\n",
    "import seaborn as sns\n",
    "import matplotlib.patches as mpatches\n",
    "#import squarify"
   ]
  },
  {
   "cell_type": "markdown",
   "metadata": {},
   "source": [
    "### load and clean recent_grads and grad_students datasets"
   ]
  },
  {
   "cell_type": "code",
   "execution_count": null,
   "metadata": {},
   "outputs": [],
   "source": [
    "# recent_grads\n",
    "recent_grads = pd.read_csv('data/recent-grads.csv')\n",
    "\n",
    "to_drop = ['Rank','Full_time_year_round', 'Unemployment_rate','ShareWomen', 'P25th','P75th',\n",
    "           'Sample_size']\n",
    "recent_grads.drop(to_drop, axis=1, inplace=True)\n",
    "recent_grads['Major_code'] = recent_grads['Major_code'].apply(str)\n",
    "\n",
    "recent_grads.dropna(subset = ['Total'], inplace=True)\n",
    "recent_grads.isna().sum()\n",
    "recent_grads.astype({'Total': 'int64', 'Men': 'int64', 'Women': 'int64'}).dtypes\n",
    "\n",
    "recent_grads = recent_grads.rename(columns={'Median': 'Median_income'})\n",
    "\n",
    "# Convert major name to title case\n",
    "recent_grads['Major'] = recent_grads['Major'].str.title()\n",
    "\n",
    "# Get short names of majors\n",
    "recent_grads['Total'] = recent_grads['Total'].apply(np.int64)\n",
    "recent_grads['Men'] = recent_grads['Men'].apply(np.int64)\n",
    "recent_grads['Women'] = recent_grads['Women'].apply(np.int64)\n",
    "major_list = pd.read_csv('data/major_short_names.csv')\n",
    "recent_grads = pd.merge(major_list, recent_grads, how='right')\n",
    "recent_grads.rename(columns={'Major':'Major_long', 'Major_short':'Major', 'Low_wage_jobs':'income: low-wage'}, inplace=True)\n",
    "recent_grads['income: other'] = recent_grads['Employed'] - recent_grads['income: low-wage']"
   ]
  },
  {
   "cell_type": "code",
   "execution_count": null,
   "metadata": {},
   "outputs": [],
   "source": [
    "recent_grads.head()"
   ]
  },
  {
   "cell_type": "code",
   "execution_count": null,
   "metadata": {},
   "outputs": [],
   "source": [
    "grad_students = pd.read_csv('data/grad-students.csv')"
   ]
  },
  {
   "cell_type": "code",
   "execution_count": null,
   "metadata": {},
   "outputs": [],
   "source": [
    "grad_students.columns"
   ]
  },
  {
   "cell_type": "code",
   "execution_count": null,
   "metadata": {},
   "outputs": [],
   "source": [
    "to_drop = ['Major_code', 'Grad_sample_size', 'Grad_P25', 'Grad_P75',  'Nongrad_P25', 'Nongrad_P75', 'Grad_share', 'Grad_premium', 'Nongrad_full_time_year_round']\n",
    "grad_students.drop(to_drop, axis=1, inplace=True)\n",
    "grad_students.isna().sum()"
   ]
  },
  {
   "cell_type": "code",
   "execution_count": null,
   "metadata": {},
   "outputs": [],
   "source": [
    "grad_students.rename(columns={ 'Grad_full_time_year_round': 'Grad_full_time','Nongrad_employed':'Grad_non_college_jobs', 'Grad_median':'Grad_median_income'}, inplace=True)\n",
    "grad_students['Grad_part_time'] = grad_students['Grad_employed'] - grad_students['Grad_full_time']\n",
    "grad_students['Grad_median_income'] = grad_students['Grad_median_income'].apply(np.int64)\n",
    "grad_students.head()"
   ]
  },
  {
   "cell_type": "markdown",
   "metadata": {},
   "source": [
    "### pivot tables for visualizations\n",
    "\n",
    "#### recent_grads"
   ]
  },
  {
   "cell_type": "code",
   "execution_count": null,
   "metadata": {},
   "outputs": [],
   "source": [
    "recent_grads['Percent_employed'] = recent_grads['Employed'] / (recent_grads['Employed'] + recent_grads['Unemployed'])\n",
    "recent_grads['Percent_college_jobs'] = recent_grads['College_jobs'] / (recent_grads['College_jobs'] + recent_grads['Non_college_jobs'])\n",
    "recent_grads['Percent_non_college_jobs'] = recent_grads['Non_college_jobs'] / (recent_grads['College_jobs'] + recent_grads['Non_college_jobs'])\n",
    "recent_grads['Total_income'] = recent_grads['Median_income'] * recent_grads['Full_time']\n",
    "recent_grads['Percent_low_wage_jobs'] = recent_grads['income: low-wage'] / (recent_grads['College_jobs'] + recent_grads['Non_college_jobs'] + recent_grads['income: low-wage'])\n",
    "recent_grads.head()"
   ]
  },
  {
   "cell_type": "code",
   "execution_count": null,
   "metadata": {},
   "outputs": [],
   "source": [
    "df_cat = recent_grads.groupby('Major_category').agg({'Median_income': 'mean', 'Total': 'sum', 'Men': 'sum', 'Women': 'sum',\n",
    "                    'Employed': 'sum', 'Unemployed': 'sum', 'Full_time': 'sum', 'College_jobs': 'sum',\n",
    "                    'Non_college_jobs': 'sum', 'income: low-wage': 'sum'})\n",
    "df_cat.reset_index(level=0, inplace=True)\n",
    "\n",
    "# See note above about the approximation of median income by category\n",
    "#df_cat['Median_income'] = round(df_cat['Median_income'] / df_cat['Full_time'])\n",
    "df_cat['Percent_employed'] = (df_cat['Employed'] / (df_cat['Employed'] + df_cat['Unemployed']))*100\n",
    "df_cat['Percent_unemployed'] = (df_cat['Unemployed'] / (df_cat['Employed'] + df_cat['Unemployed']))*100\n",
    "df_cat['Percent_men'] = (df_cat['Men'] / (df_cat['Men'] + df_cat['Women']))*100\n",
    "df_cat['Percent_women'] = (df_cat['Women'] / (df_cat['Men'] + df_cat['Women']))*100\n",
    "df_cat['Percent_college_jobs'] = (df_cat['College_jobs'] / (df_cat['College_jobs'] + df_cat['Non_college_jobs']))*100\n",
    "df_cat['Percent_non_college_jobs'] = (df_cat['Non_college_jobs'] / (df_cat['College_jobs'] + df_cat['Non_college_jobs']))*100\n",
    "df_cat['Percent_low_wage_jobs'] = df_cat['income: low-wage'] / (df_cat['College_jobs'] + df_cat['Non_college_jobs'] + df_cat['income: low-wage'])\n",
    "df_cat.head()"
   ]
  },
  {
   "cell_type": "markdown",
   "metadata": {},
   "source": [
    "### visualizations\n",
    "\n",
    "<ol>\n",
    "<li>gendered violin plot by income</li>\n",
    "<li>layered bar chart income vs major category, legend: undergraduates, graduates</li> \n",
    "<li>dual-histograms for categories with large income change</li> \n",
    "<li>total students vs income (popularity/income correlation)</li>\n",
    "<li>stand-out individual majors (outliers within categories)</li>\n",
    "<li>income vs employment type (display risk/reward tradeoff)</li>\n",
    "<li>category/major gender charts (distribution for categories)</li>\n",
    "</ul>"
   ]
  },
  {
   "cell_type": "code",
   "execution_count": null,
   "metadata": {
    "scrolled": true
   },
   "outputs": [],
   "source": [
    "# Undergrad: Income vs total scatter plot, for each major category\n",
    "sns.set(style='dark')\n",
    "plt.figure(figsize=(10,6))\n",
    "bar1 = sns.scatterplot(y='Median_income',\n",
    "                   x='Total',\n",
    "                   data=df_cat, \n",
    "                   color='darkblue',\n",
    "                  )\n",
    "plt.title('Income by Popularity', fontsize=16)\n",
    "plt.ylabel(\"Income (USD)\")\n",
    "plt.xlabel(\"Number of graduates\")\n",
    "plt.show()\n"
   ]
  },
  {
   "cell_type": "code",
   "execution_count": null,
   "metadata": {},
   "outputs": [],
   "source": [
    "# Income vs Percent of women\n",
    "sns.set(style='dark')\n",
    "plt.figure(figsize=(10,6))\n",
    "bar1 = sns.scatterplot(y='Median_income',\n",
    "                   x='Percent_women',\n",
    "                   data=df_cat, \n",
    "                   color='darkblue',\n",
    "                  )\n",
    "plt.title('Income by % Women', fontsize=16)\n",
    "plt.ylabel(\"Income (USD)\")\n",
    "plt.xlabel(\"% Women\")\n",
    "plt.show()"
   ]
  },
  {
   "cell_type": "code",
   "execution_count": null,
   "metadata": {
    "scrolled": true
   },
   "outputs": [],
   "source": [
    "sns.set_theme(style=\"white\")\n",
    "sns.relplot(x=\"Percent_women\", y=\"Median_income\", size=\"Total\",\n",
    "            sizes=(40, 400), alpha=.5, palette=\"muted\",\n",
    "            height=6, data=df_cat)"
   ]
  },
  {
   "cell_type": "code",
   "execution_count": null,
   "metadata": {},
   "outputs": [],
   "source": [
    "df_cat.columns"
   ]
  },
  {
   "cell_type": "code",
   "execution_count": null,
   "metadata": {
    "scrolled": true
   },
   "outputs": [],
   "source": [
    "# Income vs % with job requiring college\n",
    "sns.set_theme(style=\"white\")\n",
    "sns.relplot(x=\"Percent_college_jobs\", y=\"Median_income\", size=\"Total\",\n",
    "            sizes=(40, 400), alpha=.5, palette=\"muted\",\n",
    "            height=6, data=df_cat)"
   ]
  },
  {
   "cell_type": "code",
   "execution_count": null,
   "metadata": {},
   "outputs": [],
   "source": [
    "# undergraduates\n",
    "sorted_categories1 = incomes.sort_values(by=['Median_income'], ascending=False)\n",
    "# graduates\n",
    "sorted_categories2 = incomes.sort_values(by=['Grad_median_income'], ascending=False)\n",
    "# percent income change\n",
    "sorted_categories3 = incomes.sort_values(by=['income_percent_change'], ascending=False)\n"
   ]
  },
  {
   "cell_type": "code",
   "execution_count": null,
   "metadata": {},
   "outputs": [],
   "source": [
    "sns.set(style='dark')\n",
    "plt.figure(figsize=(10,6))\n",
    "bar1 = sns.barplot(y='Major_category',\n",
    "                   x='Median_income',\n",
    "                   data=sorted_categories1, \n",
    "                   color='darkblue',\n",
    "                  )\n",
    "\n",
    "plt.axvline(x=incomes.Median_income.mean(),\n",
    "        color='gray', lw=4)\n",
    "\n",
    "plt.title('Income by Major Category', fontsize=16)\n",
    "plt.ylabel(\" \")\n",
    "plt.xlabel(\"Mean Income (USD)\")\n",
    "plt.show()"
   ]
  },
  {
   "cell_type": "code",
   "execution_count": null,
   "metadata": {},
   "outputs": [],
   "source": [
    "# stacked bar chart/income\n",
    "\n",
    "def plot_incomes(sort):\n",
    "    sns.set(style='dark')\n",
    "    plt.figure(figsize=(10,6))\n",
    "    bar1 = sns.barplot(y='Major_category',\n",
    "                       x='Grad_median_income',\n",
    "                       data=sort, \n",
    "                       color='lightblue',\n",
    "                      )\n",
    "    bar2 = sns.barplot(y='Major_category',\n",
    "                       x='Median_income', \n",
    "                       data=sort, \n",
    "                       color='darkblue',\n",
    "                      )\n",
    "    plt.axvline(x=incomes.Median_income.mean(),\n",
    "            color='gray', lw=4)\n",
    "    plt.axvline(x=incomes.Grad_median_income.mean(),\n",
    "            color='red', lw=4)\n",
    "    \n",
    "    # add legend\n",
    "    top_bar = mpatches.Patch(color='darkblue', label='Undergraduates')\n",
    "    bottom_bar = mpatches.Patch(color='lightblue', label='Graduates')\n",
    "    plt.legend(handles=[top_bar, bottom_bar])\n",
    "    \n",
    "    plt.title('Income by Major Category', fontsize=16)\n",
    "    plt.ylabel(\" \")\n",
    "    plt.xlabel(\"Mean Income (USD)\")\n",
    "    plt.show()"
   ]
  },
  {
   "cell_type": "code",
   "execution_count": null,
   "metadata": {
    "scrolled": true
   },
   "outputs": [],
   "source": [
    "plot_incomes(sorted_categories1)\n",
    "plot_incomes(sorted_categories2)\n",
    "plot_incomes(sorted_categories3)"
   ]
  },
  {
   "cell_type": "code",
   "execution_count": null,
   "metadata": {},
   "outputs": [],
   "source": [
    "sns.set(style='darkgrid')\n",
    "# plt.figure(figsize=(12,12))\n",
    "\n",
    "sns.histplot(x='income_percent_change', data=incomes, kde=True)\n",
    "plt.show()"
   ]
  },
  {
   "cell_type": "code",
   "execution_count": null,
   "metadata": {},
   "outputs": [],
   "source": [
    "# initialize the figure\n",
    "plt.figure(figsize=(6,6))\n",
    "ax = plt.subplot(111, polar=True)\n",
    "plt.axis('off')\n",
    "\n",
    "# Set the coordinates limits\n",
    "upperLimit = 130\n",
    "lowerLimit = 50\n",
    "\n",
    "# Compute max and min in the dataset\n",
    "max = sorted_categories3['income_percent_change'].max()\n",
    "\n",
    "# Let's compute heights: they are a conversion of each item value in those new coordinates\n",
    "# In our example, 0 in the dataset will be converted to the lowerLimit (10)\n",
    "# The maximum will be converted to the upperLimit (100)\n",
    "slope = (max - lowerLimit) / max\n",
    "heights = slope * sorted_categories3['income_percent_change'] + lowerLimit\n",
    "\n",
    "# Compute the width of each bar. In total we have 2*Pi = 360°\n",
    "width = 2*np.pi / len(sorted_categories3.Major_category)\n",
    "\n",
    "# Compute the angle each bar is centered on:\n",
    "indexes = list(range(1, len(sorted_categories3.Major_category)+1))\n",
    "angles = [element * width for element in indexes]\n",
    "angles\n",
    "\n",
    "pal = sns.color_palette(\"Blues\", len(sorted_categories3))\n",
    "# rank = [int((max(array)-elem)*len(sorted_categories3)*0.75/(max(array)+1)) for elem in array] \n",
    "\n",
    "# Draw bars\n",
    "bars = ax.bar(\n",
    "    x=angles, \n",
    "    height=heights, \n",
    "    width=width, \n",
    "    bottom=lowerLimit,\n",
    "    linewidth=2, \n",
    "    edgecolor=\"white\",\n",
    "#     color=\"#61a4b2\",\n",
    "    color=pal[::-1]\n",
    ")\n",
    "\n",
    "# little space between the bar and the label\n",
    "labelPadding = 4\n",
    "\n",
    "# Add labels\n",
    "for bar, angle, height, label in zip(bars,angles, heights, sorted_categories3.Major_category):\n",
    "\n",
    "    # Labels are rotated. Rotation must be specified in degrees :(\n",
    "    rotation = np.rad2deg(angle)\n",
    "\n",
    "    # Flip some labels upside down\n",
    "    alignment = \"\"\n",
    "    if angle >= np.pi/2 and angle < 3*np.pi/2:\n",
    "        alignment = \"right\"\n",
    "        rotation = rotation + 180\n",
    "    else: \n",
    "        alignment = \"left\"\n",
    "\n",
    "    # Finally add the labels\n",
    "    ax.text(\n",
    "        x=angle, \n",
    "        y=lowerLimit + bar.get_height() + labelPadding, \n",
    "        s=label, \n",
    "        ha=alignment, \n",
    "        va='center', \n",
    "        rotation=rotation, \n",
    "        rotation_mode=\"anchor\") "
   ]
  },
  {
   "cell_type": "code",
   "execution_count": null,
   "metadata": {},
   "outputs": [],
   "source": [
    "top_changed_cats = ['Biology & Life Science', 'Physical Sciences', 'Humanities & Liberal Arts']\n",
    "bottom_changed_cats = ['Education', 'Arts', 'Engineering']\n",
    "\n",
    "def get_violins(cats, wide=False):\n",
    "    data1 = recent_grads[recent_grads.Major_category.isin(cats)]\n",
    "    data2 = grad_students[grad_students.Major_category.isin(cats)]\n",
    "    data1.rename(columns={'Median_income': 'Undergraduate Income'}, inplace=True)\n",
    "    data2.rename(columns={'Grad_median_income': 'Graduate Income'}, inplace=True) \n",
    "    merged = pd.merge(data1, data2, on='Major_category', how='inner')\n",
    "    data = pd.melt(merged, id_vars=['Major_category'], value_vars=['Undergraduate Income', 'Graduate Income'],\n",
    "                   var_name='Group', value_name='Income')\n",
    "    \n",
    "    sns.set(style='darkgrid')\n",
    "    my_pal = {'Undergraduate Income' : 'darkblue', 'Graduate Income': 'lightblue'}\n",
    "    \n",
    "    if wide==True:\n",
    "        plt.figure(figsize=(18,12))\n",
    "    else:\n",
    "        plt.figure(figsize=(12,10))\n",
    "        \n",
    "    cat1 = sns.violinplot(x='Major_category', y='Income', hue='Group',\n",
    "                          data=data,\n",
    "                          palette=my_pal,\n",
    "                          split=True,\n",
    "                          inner='quartile',\n",
    "                          scale='count', # scales density relative to counts across all bins\n",
    "                          bw=.6 # amount of smoothing\n",
    "                         )\n",
    "    \n",
    "    plt.xlabel(\" \")\n",
    "    plt.xticks(fontsize=16)\n",
    "    plt.ylabel(\"Income (USD)\", fontsize=14)\n",
    "    plt.yticks(fontsize=16)\n",
    "    plt.title(\"Income for Undergraduates/Graduates by Category\", fontsize=18)"
   ]
  },
  {
   "cell_type": "code",
   "execution_count": null,
   "metadata": {},
   "outputs": [],
   "source": []
  },
  {
   "cell_type": "code",
   "execution_count": null,
   "metadata": {},
   "outputs": [],
   "source": [
    "#def get_violins(cats, wide=False):\n",
    "data = pd.melt(recent_grads, id_vars=['Major_category', 'Major', 'Median_income'], value_vars=['Men', 'Women'],\n",
    "               var_name='Gender', value_name='Total')\n",
    "data.tail()"
   ]
  },
  {
   "cell_type": "code",
   "execution_count": null,
   "metadata": {},
   "outputs": [],
   "source": [
    "sns.set(style='darkgrid')\n",
    "my_pal = {'Men' : 'darkblue', 'Women' : 'lightblue'}\n",
    "\n",
    "plt.figure(figsize=(12,10))\n",
    "\n",
    "cat1 = sns.violinplot(x='Major_category', y='Median_income', hue='Gender',\n",
    "                      data=data,\n",
    "                      palette=my_pal,\n",
    "                      split=True,\n",
    "                      inner='quartile',\n",
    "                      scale='count', # scales density relative to counts across all bins\n",
    "                      bw=.6 # amount of smoothing\n",
    "                     )\n",
    "\n",
    "plt.xlabel(\" \")\n",
    "plt.xticks(fontsize=16)\n",
    "plt.ylabel(\"Income (USD)\", fontsize=14)\n",
    "plt.yticks(fontsize=16)\n",
    "plt.title(\"Income for Undergraduates/Graduates by Category\", fontsize=18)"
   ]
  },
  {
   "cell_type": "code",
   "execution_count": null,
   "metadata": {},
   "outputs": [],
   "source": [
    "get_violins(top_changed_cats)\n",
    "#get_violins(bottom_changed_cats)"
   ]
  },
  {
   "cell_type": "code",
   "execution_count": null,
   "metadata": {},
   "outputs": [],
   "source": [
    "get_violins(sorted_categories, True)\n",
    "plt.xticks([])"
   ]
  },
  {
   "cell_type": "code",
   "execution_count": null,
   "metadata": {},
   "outputs": [],
   "source": []
  }
 ],
 "metadata": {
  "kernelspec": {
   "display_name": "Python 3",
   "language": "python",
   "name": "python3"
  },
  "language_info": {
   "codemirror_mode": {
    "name": "ipython",
    "version": 3
   },
   "file_extension": ".py",
   "mimetype": "text/x-python",
   "name": "python",
   "nbconvert_exporter": "python",
   "pygments_lexer": "ipython3",
   "version": "3.8.8"
  }
 },
 "nbformat": 4,
 "nbformat_minor": 4
}
